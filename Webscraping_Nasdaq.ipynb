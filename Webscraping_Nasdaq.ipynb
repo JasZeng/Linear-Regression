{
 "cells": [
  {
   "cell_type": "markdown",
   "id": "8517720d",
   "metadata": {},
   "source": [
    "This is to load Nasdaq stock list, random pick 1000 stock from 4000+ list companies. Save the seed."
   ]
  },
  {
   "cell_type": "code",
   "execution_count": 1,
   "id": "6dc95772",
   "metadata": {},
   "outputs": [],
   "source": [
    "import pandas as pd\n",
    "import random\n",
    "import os\n",
    "from selenium import webdriver\n",
    "import yfinance as yf\n",
    "import time"
   ]
  },
  {
   "cell_type": "code",
   "execution_count": 2,
   "id": "e400290a",
   "metadata": {},
   "outputs": [],
   "source": [
    "nasdaq_df=pd.read_csv('/Users/jaszeng/Desktop/Metis/nasdaq_screener.csv')"
   ]
  },
  {
   "cell_type": "code",
   "execution_count": 3,
   "id": "73fe2783",
   "metadata": {},
   "outputs": [],
   "source": [
    "nasdaq_symbol=nasdaq_df.Symbol"
   ]
  },
  {
   "cell_type": "code",
   "execution_count": 4,
   "id": "b45e8274",
   "metadata": {},
   "outputs": [
    {
     "data": {
      "text/plain": [
       "(4760,)"
      ]
     },
     "execution_count": 4,
     "metadata": {},
     "output_type": "execute_result"
    }
   ],
   "source": [
    "nasdaq_symbol.shape"
   ]
  },
  {
   "cell_type": "code",
   "execution_count": 5,
   "id": "118f5633",
   "metadata": {},
   "outputs": [],
   "source": [
    "#random.seed(6)\n",
    "#final_list=random.sample(sorted(nasdaq_symbol),1000)\n",
    "#final_list=random.sample(sorted(nasdaq_symbol),10)"
   ]
  },
  {
   "cell_type": "code",
   "execution_count": 6,
   "id": "df7e1ca3",
   "metadata": {},
   "outputs": [],
   "source": [
    "final_list=nasdaq_symbol"
   ]
  },
  {
   "cell_type": "markdown",
   "id": "81d86123",
   "metadata": {},
   "source": [
    "Here Start to scrape data one by one"
   ]
  },
  {
   "cell_type": "code",
   "execution_count": 18,
   "id": "2803759f",
   "metadata": {},
   "outputs": [
    {
     "data": {
      "text/plain": [
       "'OPRX'"
      ]
     },
     "execution_count": 18,
     "metadata": {},
     "output_type": "execute_result"
    }
   ],
   "source": [
    "final_list[3199]"
   ]
  },
  {
   "cell_type": "code",
   "execution_count": 8,
   "id": "64cf9cfe",
   "metadata": {},
   "outputs": [],
   "source": [
    "chromedriver=\"/usr/local/bin/chromedriver\"\n",
    "os.environ[\"webdriver.chrome.driver\"]=chromedriver\n",
    "driver=webdriver.Chrome(chromedriver)\n",
    "total_df=[]\n",
    "error_df=[]"
   ]
  },
  {
   "cell_type": "code",
   "execution_count": 9,
   "id": "12ff324f",
   "metadata": {
    "scrolled": true
   },
   "outputs": [
    {
     "name": "stdout",
     "output_type": "stream",
     "text": [
      "- SV: Data doesn't exist for startDate = 1601438400, endDate = 1601524800\n",
      "- SVFA: Data doesn't exist for startDate = 1601438400, endDate = 1601524800\n",
      "- SVFB: Data doesn't exist for startDate = 1601438400, endDate = 1601524800\n",
      "- SVFC: Data doesn't exist for startDate = 1601438400, endDate = 1601524800\n",
      "- SVOK: Data doesn't exist for startDate = 1601438400, endDate = 1601524800\n",
      "- SWAG: Data doesn't exist for startDate = 1625025600, endDate = 1625112000\n",
      "- SWAG: Data doesn't exist for startDate = 1601438400, endDate = 1601524800\n",
      "- SWET: Data doesn't exist for startDate = 1601438400, endDate = 1601524800\n",
      "- SWIM: Data doesn't exist for startDate = 1601438400, endDate = 1601524800\n",
      "- SWSS: Data doesn't exist for startDate = 1625025600, endDate = 1625112000\n",
      "- SWSS: Data doesn't exist for startDate = 1601438400, endDate = 1601524800\n",
      "- TALS: Data doesn't exist for startDate = 1601438400, endDate = 1601524800\n",
      "- TARS: Data doesn't exist for startDate = 1601438400, endDate = 1601524800\n",
      "- TASK: Data doesn't exist for startDate = 1601438400, endDate = 1601524800\n",
      "- TBCP: Data doesn't exist for startDate = 1601438400, endDate = 1601524800\n",
      "- TBLA: Data doesn't exist for startDate = 1601438400, endDate = 1601524800\n",
      "- TBSA: Data doesn't exist for startDate = 1601438400, endDate = 1601524800\n",
      "- TCAC: Data doesn't exist for startDate = 1601438400, endDate = 1601524800\n",
      "- TCBC: Data doesn't exist for startDate = 1625025600, endDate = 1625112000\n",
      "- TCBC: Data doesn't exist for startDate = 1601438400, endDate = 1601524800\n",
      "- TCBS: Data doesn't exist for startDate = 1625025600, endDate = 1625112000\n",
      "- TCBS: Data doesn't exist for startDate = 1601438400, endDate = 1601524800\n",
      "- TCRX: Data doesn't exist for startDate = 1625025600, endDate = 1625112000\n",
      "- TCRX: Data doesn't exist for startDate = 1601438400, endDate = 1601524800\n",
      "- TCVA: Data doesn't exist for startDate = 1601438400, endDate = 1601524800\n",
      "- TDUP: Data doesn't exist for startDate = 1601438400, endDate = 1601524800\n",
      "- TEKK: Data doesn't exist for startDate = 1601438400, endDate = 1601524800\n",
      "- TERN: Data doesn't exist for startDate = 1601438400, endDate = 1601524800\n",
      "- TETC: Data doesn't exist for startDate = 1601438400, endDate = 1601524800\n",
      "- THCP: Data doesn't exist for startDate = 1625025600, endDate = 1625112000\n",
      "- THCP: Data doesn't exist for startDate = 1601438400, endDate = 1601524800\n",
      "- THMA: Data doesn't exist for startDate = 1601438400, endDate = 1601524800\n",
      "- THRN: Data doesn't exist for startDate = 1625025600, endDate = 1625112000\n",
      "- THRN: Data doesn't exist for startDate = 1601438400, endDate = 1601524800\n",
      "- TIL: Data doesn't exist for startDate = 1601438400, endDate = 1601524800\n",
      "- TIOA: Data doesn't exist for startDate = 1601438400, endDate = 1601524800\n",
      "- TKNO: Data doesn't exist for startDate = 1601438400, endDate = 1601524800\n",
      "- TLIS: Data doesn't exist for startDate = 1601438400, endDate = 1601524800\n",
      "- TLS: Data doesn't exist for startDate = 1601438400, endDate = 1601524800\n",
      "- TMC: Data doesn't exist for startDate = 1625025600, endDate = 1625112000\n",
      "- TMC: Data doesn't exist for startDate = 1601438400, endDate = 1601524800\n",
      "- TMCI: Data doesn't exist for startDate = 1601438400, endDate = 1601524800\n",
      "- TMKR: Data doesn't exist for startDate = 1601438400, endDate = 1601524800\n",
      "- TMPM: Data doesn't exist for startDate = 1601438400, endDate = 1601524800\n",
      "- TNYA: Data doesn't exist for startDate = 1625025600, endDate = 1625112000\n",
      "- TNYA: Data doesn't exist for startDate = 1601438400, endDate = 1601524800\n",
      "- TRIN: Data doesn't exist for startDate = 1601438400, endDate = 1601524800\n",
      "- TRKA: Data doesn't exist for startDate = 1601438400, endDate = 1601524800\n",
      "- TRMR: Data doesn't exist for startDate = 1601438400, endDate = 1601524800\n",
      "- TRON: Data doesn't exist for startDate = 1625025600, endDate = 1625112000\n",
      "- TRON: Data doesn't exist for startDate = 1601438400, endDate = 1601524800\n",
      "- TSIB: Data doesn't exist for startDate = 1601438400, endDate = 1601524800\n",
      "- TSP: Data doesn't exist for startDate = 1601438400, endDate = 1601524800\n",
      "- TUEM: Data doesn't exist for startDate = 1601438400, endDate = 1601524800\n",
      "- TUGC: Data doesn't exist for startDate = 1601438400, endDate = 1601524800\n",
      "- TVAC: Data doesn't exist for startDate = 1601438400, endDate = 1601524800\n",
      "- TWCB: Data doesn't exist for startDate = 1625025600, endDate = 1625112000\n",
      "- TWCB: Data doesn't exist for startDate = 1601438400, endDate = 1601524800\n",
      "- TWKS: Data doesn't exist for startDate = 1625025600, endDate = 1625112000\n",
      "- TWKS: Data doesn't exist for startDate = 1601438400, endDate = 1601524800\n",
      "- TWLV: Data doesn't exist for startDate = 1601438400, endDate = 1601524800\n",
      "- TYRA: Data doesn't exist for startDate = 1625025600, endDate = 1625112000\n",
      "- TYRA: Data doesn't exist for startDate = 1601438400, endDate = 1601524800\n",
      "- TZPS: Data doesn't exist for startDate = 1601438400, endDate = 1601524800\n",
      "- ULCC: Data doesn't exist for startDate = 1601438400, endDate = 1601524800\n",
      "- UNCY: Data doesn't exist for startDate = 1625025600, endDate = 1625112000\n",
      "- UNCY: Data doesn't exist for startDate = 1601438400, endDate = 1601524800\n",
      "- UPST: Data doesn't exist for startDate = 1601438400, endDate = 1601524800\n",
      "- UPTD: Data doesn't exist for startDate = 1625025600, endDate = 1625112000\n",
      "- UPTD: Data doesn't exist for startDate = 1601438400, endDate = 1601524800\n",
      "- UROY: Data doesn't exist for startDate = 1601438400, endDate = 1601524800\n",
      "- USCB: Data doesn't exist for startDate = 1625025600, endDate = 1625112000\n",
      "- USCB: Data doesn't exist for startDate = 1601438400, endDate = 1601524800\n",
      "- VACC: Data doesn't exist for startDate = 1601438400, endDate = 1601524800\n",
      "- VALN: Data doesn't exist for startDate = 1601438400, endDate = 1601524800\n",
      "- VAQC: Data doesn't exist for startDate = 1601438400, endDate = 1601524800\n",
      "- VBNK: Data doesn't exist for startDate = 1625025600, endDate = 1625112000\n",
      "- VBNK: Data doesn't exist for startDate = 1601438400, endDate = 1601524800\n",
      "- VCKA: Data doesn't exist for startDate = 1601438400, endDate = 1601524800\n",
      "- VEEE: Data doesn't exist for startDate = 1625025600, endDate = 1625112000\n",
      "- VEEE: Data doesn't exist for startDate = 1601438400, endDate = 1601524800\n",
      "- VELO: Data doesn't exist for startDate = 1601438400, endDate = 1601524800\n",
      "- VENA: Data doesn't exist for startDate = 1601438400, endDate = 1601524800\n",
      "- VERA: Data doesn't exist for startDate = 1601438400, endDate = 1601524800\n",
      "- VERV: Data doesn't exist for startDate = 1601438400, endDate = 1601524800\n",
      "- VGFC: Data doesn't exist for startDate = 1632974400, endDate = 1633060800\n",
      "- VGFC: Data doesn't exist for startDate = 1625025600, endDate = 1625112000\n",
      "- VGFC: Data doesn't exist for startDate = 1601438400, endDate = 1601524800\n",
      "- VIEW: Data doesn't exist for startDate = 1601438400, endDate = 1601524800\n",
      "- VII: Data doesn't exist for startDate = 1601438400, endDate = 1601524800\n",
      "- VINO: Data doesn't exist for startDate = 1601438400, endDate = 1601524800\n",
      "- VINP: Data doesn't exist for startDate = 1601438400, endDate = 1601524800\n",
      "- VIRI: Data doesn't exist for startDate = 1601438400, endDate = 1601524800\n",
      "- VLAT: Data doesn't exist for startDate = 1601438400, endDate = 1601524800\n",
      "- VLON: Data doesn't exist for startDate = 1601438400, endDate = 1601524800\n",
      "- VMAR: Data doesn't exist for startDate = 1601438400, endDate = 1601524800\n",
      "- VMEO: Data doesn't exist for startDate = 1601438400, endDate = 1601524800\n",
      "- VOR: Data doesn't exist for startDate = 1601438400, endDate = 1601524800\n",
      "- VPCB: Data doesn't exist for startDate = 1601438400, endDate = 1601524800\n",
      "- VRAR: Data doesn't exist for startDate = 1625025600, endDate = 1625112000\n",
      "- VRAR: Data doesn't exist for startDate = 1601438400, endDate = 1601524800\n",
      "- VRPX: Data doesn't exist for startDate = 1601438400, endDate = 1601524800\n",
      "- VTAQ: Data doesn't exist for startDate = 1601438400, endDate = 1601524800\n",
      "- VTIQ: Data doesn't exist for startDate = 1601438400, endDate = 1601524800\n",
      "- VVOS: Data doesn't exist for startDate = 1601438400, endDate = 1601524800\n",
      "- WALD: Data doesn't exist for startDate = 1601438400, endDate = 1601524800\n",
      "- WAVE: Data doesn't exist for startDate = 1625025600, endDate = 1625112000\n",
      "- WAVE: Data doesn't exist for startDate = 1601438400, endDate = 1601524800\n"
     ]
    },
    {
     "name": "stdout",
     "output_type": "stream",
     "text": [
      "- WFRD: Data doesn't exist for startDate = 1601438400, endDate = 1601524800\n",
      "- WISH: Data doesn't exist for startDate = 1601438400, endDate = 1601524800\n",
      "- WKME: Data doesn't exist for startDate = 1601438400, endDate = 1601524800\n",
      "- WOOF: Data doesn't exist for startDate = 1601438400, endDate = 1601524800\n",
      "- XM: Data doesn't exist for startDate = 1601438400, endDate = 1601524800\n",
      "- XMTR: Data doesn't exist for startDate = 1601438400, endDate = 1601524800\n",
      "- XOS: Data doesn't exist for startDate = 1601438400, endDate = 1601524800\n",
      "- XPAX: Data doesn't exist for startDate = 1625025600, endDate = 1625112000\n",
      "- XPAX: Data doesn't exist for startDate = 1601438400, endDate = 1601524800\n",
      "- XPDI: Data doesn't exist for startDate = 1601438400, endDate = 1601524800\n",
      "- XRTX: Data doesn't exist for startDate = 1632974400, endDate = 1633060800\n",
      "- XRTX: Data doesn't exist for startDate = 1625025600, endDate = 1625112000\n",
      "- XRTX: Data doesn't exist for startDate = 1601438400, endDate = 1601524800\n",
      "- YQ: Data doesn't exist for startDate = 1601438400, endDate = 1601524800\n",
      "- YSAC: Data doesn't exist for startDate = 1601438400, endDate = 1601524800\n",
      "- ZENV: Data doesn't exist for startDate = 1625025600, endDate = 1625112000\n",
      "- ZENV: Data doesn't exist for startDate = 1601438400, endDate = 1601524800\n",
      "- ZNTE: Data doesn't exist for startDate = 1601438400, endDate = 1601524800\n",
      "- ZT: Data doesn't exist for startDate = 1625025600, endDate = 1625112000\n",
      "- ZT: Data doesn't exist for startDate = 1601438400, endDate = 1601524800\n",
      "- ZWRK: Data doesn't exist for startDate = 1601438400, endDate = 1601524800\n",
      "- ZY: Data doesn't exist for startDate = 1601438400, endDate = 1601524800\n"
     ]
    }
   ],
   "source": [
    "for i in range(len(final_list)):\n",
    "    URL = 'https://finance.yahoo.com/quote/' + final_list[i] + '/key-statistics?p=' + final_list[i]\n",
    "    driver.get(URL)\n",
    "    time.sleep(10)\n",
    "    #here scrape financial statistics from URL\n",
    "    try:\n",
    "        Market_cap=driver.find_element_by_xpath('//*[@id=\"Col1-0-KeyStatistics-Proxy\"]/section/div[3]/div[1]/div[2]/div/div[1]/div[1]/table/tbody/tr[1]/td[3]').text\n",
    "        Enterprise_value=driver.find_element_by_xpath('//*[@id=\"Col1-0-KeyStatistics-Proxy\"]/section/div[3]/div[1]/div[2]/div/div[1]/div[1]/table/tbody/tr[2]/td[3]').text\n",
    "        Trailing_PE=driver.find_element_by_xpath('//*[@id=\"Col1-0-KeyStatistics-Proxy\"]/section/div[3]/div[1]/div[2]/div/div[1]/div[1]/table/tbody/tr[3]/td[3]').text\n",
    "        Forward_PE=driver.find_element_by_xpath('//*[@id=\"Col1-0-KeyStatistics-Proxy\"]/section/div[3]/div[1]/div[2]/div/div[1]/div[1]/table/tbody/tr[4]/td[3]').text\n",
    "        PEG_ratio=driver.find_element_by_xpath('//*[@id=\"Col1-0-KeyStatistics-Proxy\"]/section/div[3]/div[1]/div[2]/div/div[1]/div[1]/table/tbody/tr[5]/td[3]').text\n",
    "        Price_to_sale=driver.find_element_by_xpath('//*[@id=\"Col1-0-KeyStatistics-Proxy\"]/section/div[3]/div[1]/div[2]/div/div[1]/div[1]/table/tbody/tr[6]/td[3]').text\n",
    "        Price_to_book=driver.find_element_by_xpath('//*[@id=\"Col1-0-KeyStatistics-Proxy\"]/section/div[3]/div[1]/div[2]/div/div[1]/div[1]/table/tbody/tr[7]/td[3]').text\n",
    "        Value_to_revenue=driver.find_element_by_xpath('//*[@id=\"Col1-0-KeyStatistics-Proxy\"]/section/div[3]/div[1]/div[2]/div/div[1]/div[1]/table/tbody/tr[8]/td[3]').text\n",
    "        Value_to_EBITDA=driver.find_element_by_xpath('//*[@id=\"Col1-0-KeyStatistics-Proxy\"]/section/div[3]/div[1]/div[2]/div/div[1]/div[1]/table/tbody/tr[9]/td[3]').text\n",
    "        Profit_margin=driver.find_element_by_xpath('//*[@id=\"Col1-0-KeyStatistics-Proxy\"]/section/div[3]/div[3]/div/div[2]/div/div/table/tbody/tr[1]/td[2]').text\n",
    "        Operating_margin=driver.find_element_by_xpath('//*[@id=\"Col1-0-KeyStatistics-Proxy\"]/section/div[3]/div[3]/div/div[2]/div/div/table/tbody/tr[2]/td[2]').text\n",
    "        Return_on_asset=driver.find_element_by_xpath('//*[@id=\"Col1-0-KeyStatistics-Proxy\"]/section/div[3]/div[3]/div/div[3]/div/div/table/tbody/tr[1]/td[2]').text\n",
    "        Return_on_equity=driver.find_element_by_xpath('//*[@id=\"Col1-0-KeyStatistics-Proxy\"]/section/div[3]/div[3]/div/div[3]/div/div/table/tbody/tr[2]/td[2]').text\n",
    "        Revenue=driver.find_element_by_xpath('//*[@id=\"Col1-0-KeyStatistics-Proxy\"]/section/div[3]/div[3]/div/div[4]/div/div/table/tbody/tr[1]/td[2]').text\n",
    "        Revenue_per_share=driver.find_element_by_xpath('//*[@id=\"Col1-0-KeyStatistics-Proxy\"]/section/div[3]/div[3]/div/div[4]/div/div/table/tbody/tr[2]/td[2]').text\n",
    "        Quarterly_revenue_growth=driver.find_element_by_xpath('//*[@id=\"Col1-0-KeyStatistics-Proxy\"]/section/div[3]/div[3]/div/div[4]/div/div/table/tbody/tr[3]/td[2]').text\n",
    "        Gross_profit=driver.find_element_by_xpath('//*[@id=\"Col1-0-KeyStatistics-Proxy\"]/section/div[3]/div[3]/div/div[4]/div/div/table/tbody/tr[4]/td[2]').text\n",
    "        EBITDA=driver.find_element_by_xpath('//*[@id=\"Col1-0-KeyStatistics-Proxy\"]/section/div[3]/div[3]/div/div[4]/div/div/table/tbody/tr[5]/td[2]').text\n",
    "        Netincome_avi_to_common=driver.find_element_by_xpath('//*[@id=\"Col1-0-KeyStatistics-Proxy\"]/section/div[3]/div[3]/div/div[4]/div/div/table/tbody/tr[6]/td[2]').text\n",
    "        Dilutted_eps=driver.find_element_by_xpath('//*[@id=\"Col1-0-KeyStatistics-Proxy\"]/section/div[3]/div[3]/div/div[4]/div/div/table/tbody/tr[7]/td[2]').text\n",
    "        Quarterly_earnings_growth=driver.find_element_by_xpath('//*[@id=\"Col1-0-KeyStatistics-Proxy\"]/section/div[3]/div[3]/div/div[4]/div/div/table/tbody/tr[8]/td[2]').text\n",
    "        Total_cash=driver.find_element_by_xpath('//*[@id=\"Col1-0-KeyStatistics-Proxy\"]/section/div[3]/div[3]/div/div[5]/div/div/table/tbody/tr[1]/td[2]').text\n",
    "        Total_cash_per_share=driver.find_element_by_xpath('//*[@id=\"Col1-0-KeyStatistics-Proxy\"]/section/div[3]/div[3]/div/div[5]/div/div/table/tbody/tr[2]/td[2]').text\n",
    "        Total_debt=driver.find_element_by_xpath('//*[@id=\"Col1-0-KeyStatistics-Proxy\"]/section/div[3]/div[3]/div/div[5]/div/div/table/tbody/tr[3]/td[2]').text\n",
    "        Total_debt_to_equity=driver.find_element_by_xpath('//*[@id=\"Col1-0-KeyStatistics-Proxy\"]/section/div[3]/div[3]/div/div[5]/div/div/table/tbody/tr[4]/td[2]').text\n",
    "        Current_ratio=driver.find_element_by_xpath('//*[@id=\"Col1-0-KeyStatistics-Proxy\"]/section/div[3]/div[3]/div/div[5]/div/div/table/tbody/tr[5]/td[2]').text\n",
    "        Book_value_per_share=driver.find_element_by_xpath('//*[@id=\"Col1-0-KeyStatistics-Proxy\"]/section/div[3]/div[3]/div/div[5]/div/div/table/tbody/tr[6]/td[2]').text\n",
    "        Operating_cash_flow=driver.find_element_by_xpath('//*[@id=\"Col1-0-KeyStatistics-Proxy\"]/section/div[3]/div[3]/div/div[6]/div/div/table/tbody/tr[1]/td[2]').text\n",
    "        Levered_Free_cash_flow=driver.find_element_by_xpath('//*[@id=\"Col1-0-KeyStatistics-Proxy\"]/section/div[3]/div[3]/div/div[6]/div/div/table/tbody/tr[2]/td[2]').text\n",
    "        #here download price using yhfinance library\n",
    "        current_price=yf.Ticker(final_list[i]).history(period=\"1d\",start=\"2021-09-30\", end=\"2021-10-01\").Close.to_list()\n",
    "        last_quarter_price=yf.Ticker(final_list[i]).history(period=\"1d\",start=\"2021-06-30\", end=\"2021-07-01\").Close.to_list()\n",
    "        last_year_price=yf.Ticker(final_list[i]).history(period=\"1d\",start=\"2020-09-30\", end=\"2020-10-01\").Close.to_list()\n",
    "    except: \n",
    "        error_df.append(final_list[i])\n",
    "        continue\n",
    "    canidate_dict={'Symbol':final_list[i],'Market_cap':Market_cap,'Enterprise_value':Enterprise_value,'Trailing_PE':Trailing_PE,\n",
    "                  'Forward_PE':Forward_PE,'PEG_ratio':PEG_ratio,'Price_to_sale':Price_to_sale,\n",
    "                  'Price_to_book':Price_to_book,'Value_to_revenue':Value_to_revenue,'Value_to_EBITDA':Value_to_EBITDA,\n",
    "                  'Profit_margin':Profit_margin,'Operating_margin':Operating_margin,'Return_on_asset':Return_on_asset,\n",
    "                  'Return_on_equity':Return_on_equity,'Revenue':Revenue,'Revenue_per_share':Revenue_per_share,\n",
    "                  'Quarterly_revenue_growth':Quarterly_revenue_growth,'Gross_profit':Gross_profit,\n",
    "                  'EBITDA':EBITDA,'Netincome_avi_to_common':Netincome_avi_to_common,'Dilutted_eps':Dilutted_eps,\n",
    "                  'Quarterly_earnings_growth':Quarterly_earnings_growth,'Total_cash':Total_cash,'Total_cash_per_share':Total_cash_per_share,\n",
    "                  'Total_debt':Total_debt,'Total_debt_to_equity':Total_debt_to_equity,'Current_ratio':Current_ratio,\n",
    "                  'Book_value_per_share':Book_value_per_share,'Operating_cash_flow':Operating_cash_flow,\n",
    "                  'Levered_Free_cash_flow':Levered_Free_cash_flow,'current_price':current_price,\n",
    "                  'last_quarter_price':last_quarter_price,'last_year_price':last_year_price}\n",
    "    total_df.append(canidate_dict)\n",
    "    if (i+1)%200==0:\n",
    "        output_df=pd.DataFrame(total_df)\n",
    "        output_df.to_csv(('/Users/jaszeng/Desktop/Metis/nasdaq_'+str(i)+'.csv'))\n",
    "    time.sleep(2)\n",
    "\n",
    "\n",
    "output_df=pd.DataFrame(total_df)\n",
    "output_df.to_csv(('/Users/jaszeng/Desktop/Metis/nasdaq_'+str(i)+'.csv'))"
   ]
  },
  {
   "cell_type": "code",
   "execution_count": 10,
   "id": "171fb9b5",
   "metadata": {},
   "outputs": [
    {
     "data": {
      "text/plain": [
       "4103"
      ]
     },
     "execution_count": 10,
     "metadata": {},
     "output_type": "execute_result"
    }
   ],
   "source": [
    "i"
   ]
  },
  {
   "cell_type": "code",
   "execution_count": 11,
   "id": "437ebe34",
   "metadata": {},
   "outputs": [],
   "source": [
    "output_df=pd.DataFrame(total_df)\n",
    "output_df.to_csv(('/Users/jaszeng/Desktop/Metis/nasdaq_'+str(i)+'.csv'))"
   ]
  },
  {
   "cell_type": "code",
   "execution_count": null,
   "id": "6701c793",
   "metadata": {},
   "outputs": [],
   "source": []
  }
 ],
 "metadata": {
  "kernelspec": {
   "display_name": "Python 3 (ipykernel)",
   "language": "python",
   "name": "python3"
  },
  "language_info": {
   "codemirror_mode": {
    "name": "ipython",
    "version": 3
   },
   "file_extension": ".py",
   "mimetype": "text/x-python",
   "name": "python",
   "nbconvert_exporter": "python",
   "pygments_lexer": "ipython3",
   "version": "3.9.7"
  }
 },
 "nbformat": 4,
 "nbformat_minor": 5
}
