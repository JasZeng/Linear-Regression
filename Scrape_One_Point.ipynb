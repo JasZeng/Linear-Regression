{
 "cells": [
  {
   "cell_type": "code",
   "execution_count": 1,
   "id": "a18b1120",
   "metadata": {},
   "outputs": [],
   "source": [
    "import os\n",
    "from selenium import webdriver\n",
    "import yfinance as yf\n",
    "import pandas as pd"
   ]
  },
  {
   "cell_type": "code",
   "execution_count": 2,
   "id": "dddbe7c3",
   "metadata": {},
   "outputs": [],
   "source": [
    "chromedriver=\"/usr/local/bin/chromedriver\"\n",
    "os.environ[\"webdriver.chrome.driver\"]=chromedriver"
   ]
  },
  {
   "cell_type": "code",
   "execution_count": 3,
   "id": "4c1e236d",
   "metadata": {},
   "outputs": [],
   "source": [
    "driver=webdriver.Chrome(chromedriver)\n",
    "driver.get(\"https://finance.yahoo.com/quote/AAPL/key-statistics?p=AAPL\")"
   ]
  },
  {
   "cell_type": "code",
   "execution_count": 1,
   "id": "04e5702d",
   "metadata": {},
   "outputs": [
    {
     "ename": "NameError",
     "evalue": "name 'driver' is not defined",
     "output_type": "error",
     "traceback": [
      "\u001b[0;31m---------------------------------------------------------------------------\u001b[0m",
      "\u001b[0;31mNameError\u001b[0m                                 Traceback (most recent call last)",
      "\u001b[0;32m/var/folders/qh/f_xd4_hs7jq5186tyc9v3gdm0000gn/T/ipykernel_10750/3538120111.py\u001b[0m in \u001b[0;36m<module>\u001b[0;34m\u001b[0m\n\u001b[0;32m----> 1\u001b[0;31m \u001b[0mMarket_cap\u001b[0m\u001b[0;34m=\u001b[0m\u001b[0mdriver\u001b[0m\u001b[0;34m.\u001b[0m\u001b[0mfind_element_by_xpath\u001b[0m\u001b[0;34m(\u001b[0m\u001b[0;34m'//*[@id=\"Col1-0-KeyStatistics-Proxy\"]/section/div[3]/div[1]/div[2]/div/div[1]/div[1]/table/tbody/tr[1]/td[3]'\u001b[0m\u001b[0;34m)\u001b[0m\u001b[0;34m.\u001b[0m\u001b[0mtext\u001b[0m\u001b[0;34m\u001b[0m\u001b[0;34m\u001b[0m\u001b[0m\n\u001b[0m\u001b[1;32m      2\u001b[0m \u001b[0mEnterprise_value\u001b[0m\u001b[0;34m=\u001b[0m\u001b[0mdriver\u001b[0m\u001b[0;34m.\u001b[0m\u001b[0mfind_element_by_xpath\u001b[0m\u001b[0;34m(\u001b[0m\u001b[0;34m'//*[@id=\"Col1-0-KeyStatistics-Proxy\"]/section/div[3]/div[1]/div[2]/div/div[1]/div[1]/table/tbody/tr[2]/td[3]'\u001b[0m\u001b[0;34m)\u001b[0m\u001b[0;34m.\u001b[0m\u001b[0mtext\u001b[0m\u001b[0;34m\u001b[0m\u001b[0;34m\u001b[0m\u001b[0m\n\u001b[1;32m      3\u001b[0m \u001b[0mTrailing_PE\u001b[0m\u001b[0;34m=\u001b[0m\u001b[0mdriver\u001b[0m\u001b[0;34m.\u001b[0m\u001b[0mfind_element_by_xpath\u001b[0m\u001b[0;34m(\u001b[0m\u001b[0;34m'//*[@id=\"Col1-0-KeyStatistics-Proxy\"]/section/div[3]/div[1]/div[2]/div/div[1]/div[1]/table/tbody/tr[3]/td[3]'\u001b[0m\u001b[0;34m)\u001b[0m\u001b[0;34m.\u001b[0m\u001b[0mtext\u001b[0m\u001b[0;34m\u001b[0m\u001b[0;34m\u001b[0m\u001b[0m\n\u001b[1;32m      4\u001b[0m \u001b[0mForward_PE\u001b[0m\u001b[0;34m=\u001b[0m\u001b[0mdriver\u001b[0m\u001b[0;34m.\u001b[0m\u001b[0mfind_element_by_xpath\u001b[0m\u001b[0;34m(\u001b[0m\u001b[0;34m'//*[@id=\"Col1-0-KeyStatistics-Proxy\"]/section/div[3]/div[1]/div[2]/div/div[1]/div[1]/table/tbody/tr[4]/td[3]'\u001b[0m\u001b[0;34m)\u001b[0m\u001b[0;34m.\u001b[0m\u001b[0mtext\u001b[0m\u001b[0;34m\u001b[0m\u001b[0;34m\u001b[0m\u001b[0m\n\u001b[1;32m      5\u001b[0m \u001b[0mPEG_ratio\u001b[0m\u001b[0;34m=\u001b[0m\u001b[0mdriver\u001b[0m\u001b[0;34m.\u001b[0m\u001b[0mfind_element_by_xpath\u001b[0m\u001b[0;34m(\u001b[0m\u001b[0;34m'//*[@id=\"Col1-0-KeyStatistics-Proxy\"]/section/div[3]/div[1]/div[2]/div/div[1]/div[1]/table/tbody/tr[5]/td[3]'\u001b[0m\u001b[0;34m)\u001b[0m\u001b[0;34m.\u001b[0m\u001b[0mtext\u001b[0m\u001b[0;34m\u001b[0m\u001b[0;34m\u001b[0m\u001b[0m\n",
      "\u001b[0;31mNameError\u001b[0m: name 'driver' is not defined"
     ]
    }
   ],
   "source": [
    "Market_cap=driver.find_element_by_xpath('//*[@id=\"Col1-0-KeyStatistics-Proxy\"]/section/div[3]/div[1]/div[2]/div/div[1]/div[1]/table/tbody/tr[1]/td[3]').text\n",
    "Enterprise_value=driver.find_element_by_xpath('//*[@id=\"Col1-0-KeyStatistics-Proxy\"]/section/div[3]/div[1]/div[2]/div/div[1]/div[1]/table/tbody/tr[2]/td[3]').text\n",
    "Trailing_PE=driver.find_element_by_xpath('//*[@id=\"Col1-0-KeyStatistics-Proxy\"]/section/div[3]/div[1]/div[2]/div/div[1]/div[1]/table/tbody/tr[3]/td[3]').text\n",
    "Forward_PE=driver.find_element_by_xpath('//*[@id=\"Col1-0-KeyStatistics-Proxy\"]/section/div[3]/div[1]/div[2]/div/div[1]/div[1]/table/tbody/tr[4]/td[3]').text\n",
    "PEG_ratio=driver.find_element_by_xpath('//*[@id=\"Col1-0-KeyStatistics-Proxy\"]/section/div[3]/div[1]/div[2]/div/div[1]/div[1]/table/tbody/tr[5]/td[3]').text\n",
    "Price_to_sale=driver.find_element_by_xpath('//*[@id=\"Col1-0-KeyStatistics-Proxy\"]/section/div[3]/div[1]/div[2]/div/div[1]/div[1]/table/tbody/tr[6]/td[3]').text\n",
    "Price_to_book=driver.find_element_by_xpath('//*[@id=\"Col1-0-KeyStatistics-Proxy\"]/section/div[3]/div[1]/div[2]/div/div[1]/div[1]/table/tbody/tr[7]/td[3]').text\n",
    "Value_to_revenue=driver.find_element_by_xpath('//*[@id=\"Col1-0-KeyStatistics-Proxy\"]/section/div[3]/div[1]/div[2]/div/div[1]/div[1]/table/tbody/tr[8]/td[3]').text\n",
    "Value_to_EBITDA=driver.find_element_by_xpath('//*[@id=\"Col1-0-KeyStatistics-Proxy\"]/section/div[3]/div[1]/div[2]/div/div[1]/div[1]/table/tbody/tr[9]/td[3]').text"
   ]
  },
  {
   "cell_type": "code",
   "execution_count": null,
   "id": "a8bcb8e9",
   "metadata": {},
   "outputs": [],
   "source": [
    "Profit_margin=driver.find_element_by_xpath('//*[@id=\"Col1-0-KeyStatistics-Proxy\"]/section/div[3]/div[3]/div/div[2]/div/div/table/tbody/tr[1]/td[2]').text\n",
    "Operating_margin=driver.find_element_by_xpath('//*[@id=\"Col1-0-KeyStatistics-Proxy\"]/section/div[3]/div[3]/div/div[2]/div/div/table/tbody/tr[2]/td[2]').text"
   ]
  },
  {
   "cell_type": "code",
   "execution_count": null,
   "id": "8c1b22be",
   "metadata": {},
   "outputs": [],
   "source": [
    "Return_on_asset=driver.find_element_by_xpath('//*[@id=\"Col1-0-KeyStatistics-Proxy\"]/section/div[3]/div[3]/div/div[3]/div/div/table/tbody/tr[1]/td[2]').text\n",
    "Return_on_equity=driver.find_element_by_xpath('//*[@id=\"Col1-0-KeyStatistics-Proxy\"]/section/div[3]/div[3]/div/div[3]/div/div/table/tbody/tr[2]/td[2]').text"
   ]
  },
  {
   "cell_type": "code",
   "execution_count": 19,
   "id": "cf583ed5",
   "metadata": {},
   "outputs": [],
   "source": [
    "Revenue=driver.find_element_by_xpath('//*[@id=\"Col1-0-KeyStatistics-Proxy\"]/section/div[3]/div[3]/div/div[4]/div/div/table/tbody/tr[1]/td[2]').text\n",
    "Revenue_per_share=driver.find_element_by_xpath('//*[@id=\"Col1-0-KeyStatistics-Proxy\"]/section/div[3]/div[3]/div/div[4]/div/div/table/tbody/tr[2]/td[2]').text\n",
    "Quarterly_revenue_growth=driver.find_element_by_xpath('//*[@id=\"Col1-0-KeyStatistics-Proxy\"]/section/div[3]/div[3]/div/div[4]/div/div/table/tbody/tr[3]/td[2]').text\n",
    "Gross_profit=driver.find_element_by_xpath('//*[@id=\"Col1-0-KeyStatistics-Proxy\"]/section/div[3]/div[3]/div/div[4]/div/div/table/tbody/tr[4]/td[2]').text\n",
    "EBITDA=driver.find_element_by_xpath('//*[@id=\"Col1-0-KeyStatistics-Proxy\"]/section/div[3]/div[3]/div/div[4]/div/div/table/tbody/tr[5]/td[2]').text\n",
    "Netincome_avi_to_common=driver.find_element_by_xpath('//*[@id=\"Col1-0-KeyStatistics-Proxy\"]/section/div[3]/div[3]/div/div[4]/div/div/table/tbody/tr[6]/td[2]').text\n",
    "Dilutted_eps=driver.find_element_by_xpath('//*[@id=\"Col1-0-KeyStatistics-Proxy\"]/section/div[3]/div[3]/div/div[4]/div/div/table/tbody/tr[7]/td[2]').text\n",
    "Quarterly_earnings_growth=driver.find_element_by_xpath('//*[@id=\"Col1-0-KeyStatistics-Proxy\"]/section/div[3]/div[3]/div/div[4]/div/div/table/tbody/tr[8]/td[2]').text"
   ]
  },
  {
   "cell_type": "code",
   "execution_count": 20,
   "id": "2f0471e1",
   "metadata": {},
   "outputs": [],
   "source": [
    "Total_cash=driver.find_element_by_xpath('//*[@id=\"Col1-0-KeyStatistics-Proxy\"]/section/div[3]/div[3]/div/div[5]/div/div/table/tbody/tr[1]/td[2]').text\n",
    "Total_cash_per_share=driver.find_element_by_xpath('//*[@id=\"Col1-0-KeyStatistics-Proxy\"]/section/div[3]/div[3]/div/div[5]/div/div/table/tbody/tr[2]/td[2]').text\n",
    "Total_debt=driver.find_element_by_xpath('//*[@id=\"Col1-0-KeyStatistics-Proxy\"]/section/div[3]/div[3]/div/div[5]/div/div/table/tbody/tr[3]/td[2]').text\n",
    "Total_debt_to_equity=driver.find_element_by_xpath('//*[@id=\"Col1-0-KeyStatistics-Proxy\"]/section/div[3]/div[3]/div/div[5]/div/div/table/tbody/tr[4]/td[2]').text\n",
    "Current_ratio=driver.find_element_by_xpath('//*[@id=\"Col1-0-KeyStatistics-Proxy\"]/section/div[3]/div[3]/div/div[5]/div/div/table/tbody/tr[5]/td[2]').text\n",
    "Book_value_per_share=driver.find_element_by_xpath('//*[@id=\"Col1-0-KeyStatistics-Proxy\"]/section/div[3]/div[3]/div/div[5]/div/div/table/tbody/tr[6]/td[2]').text"
   ]
  },
  {
   "cell_type": "code",
   "execution_count": 21,
   "id": "923a85d2",
   "metadata": {},
   "outputs": [],
   "source": [
    "Operating_cash_flow=driver.find_element_by_xpath('//*[@id=\"Col1-0-KeyStatistics-Proxy\"]/section/div[3]/div[3]/div/div[6]/div/div/table/tbody/tr[1]/td[2]').text\n",
    "Levered_Free_cash_flow=driver.find_element_by_xpath('//*[@id=\"Col1-0-KeyStatistics-Proxy\"]/section/div[3]/div[3]/div/div[6]/div/div/table/tbody/tr[2]/td[2]').text"
   ]
  },
  {
   "cell_type": "code",
   "execution_count": 22,
   "id": "eb3318fc",
   "metadata": {},
   "outputs": [],
   "source": [
    "current_price=yf.Ticker(\"AAPL\").history(period=\"1d\",start=\"2021-09-30\", end=\"2021-10-01\").Close.to_list()\n",
    "last_quarter_price=yf.Ticker(\"AAPL\").history(period=\"1d\",start=\"2021-06-30\", end=\"2021-07-01\").Close.to_list()\n",
    "last_year_price=yf.Ticker(\"AAPL\").history(period=\"1d\",start=\"2020-09-30\", end=\"2020-10-01\").Close.to_list()"
   ]
  },
  {
   "cell_type": "code",
   "execution_count": 23,
   "id": "7d77e2a7",
   "metadata": {},
   "outputs": [
    {
     "name": "stdout",
     "output_type": "stream",
     "text": [
      "[[141.29379272460938], [136.55581665039062], [114.9021987915039]]\n"
     ]
    }
   ],
   "source": [
    "print([current_price,last_quarter_price,last_year_price])"
   ]
  },
  {
   "cell_type": "code",
   "execution_count": null,
   "id": "b0170b51",
   "metadata": {},
   "outputs": [],
   "source": []
  }
 ],
 "metadata": {
  "kernelspec": {
   "display_name": "Python 3 (ipykernel)",
   "language": "python",
   "name": "python3"
  },
  "language_info": {
   "codemirror_mode": {
    "name": "ipython",
    "version": 3
   },
   "file_extension": ".py",
   "mimetype": "text/x-python",
   "name": "python",
   "nbconvert_exporter": "python",
   "pygments_lexer": "ipython3",
   "version": "3.9.7"
  }
 },
 "nbformat": 4,
 "nbformat_minor": 5
}
